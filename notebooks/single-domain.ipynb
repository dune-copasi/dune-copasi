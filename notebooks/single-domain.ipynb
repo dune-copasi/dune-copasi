{
 "cells": [
  {
   "cell_type": "code",
   "execution_count": null,
   "id": "50ed26c5",
   "metadata": {},
   "outputs": [],
   "source": [
    "#include <dune/common/parallel/mpihelper.hh>\n",
    "\n",
    "// initialize (fake) mpi\n",
    "auto& mpi_helper = Dune::MPIHelper::instance(int{}, (char**){});\n",
    "auto comm = mpi_helper.getCollectiveCommunication();"
   ]
  },
  {
   "cell_type": "code",
   "execution_count": null,
   "id": "08c0367b",
   "metadata": {},
   "outputs": [],
   "source": [
    "#include <dune/logging/logging.hh>\n",
    "\n",
    "// initialize loggers\n",
    "Dune::Logging::Logging::init(comm, {});"
   ]
  },
  {
   "cell_type": "code",
   "execution_count": null,
   "id": "e9ba4801",
   "metadata": {},
   "outputs": [],
   "source": [
    "#include <dune/grid/io/file/gmshreader.hh>\n",
    "#include <dune/grid/uggrid.hh>\n",
    "\n",
    "constexpr int dim = 2;\n",
    "using Grid = Dune::UGGrid<dim>;\n",
    "auto grid_ptr = Dune::GmshReader<Grid>::read(\"grids/circle.msh\");"
   ]
  },
  {
   "cell_type": "code",
   "execution_count": null,
   "id": "5a56909e",
   "metadata": {},
   "outputs": [],
   "source": [
    "#include <dune/copasi/model/diffusion_reaction.hh>\n",
    "#include <dune/copasi/model/diffusion_reaction.cc>\n",
    "\n",
    "using Traits = Dune::Copasi::ModelP0PkDiffusionReactionTraits<Grid>;\n",
    "Dune::Copasi::ModelDiffusionReaction<Traits> model(grid_ptr, {});"
   ]
  }
 ],
 "metadata": {
  "kernelspec": {
   "display_name": "C++17 (DUNE-COPASI)",
   "language": "C++17",
   "name": "2b54f68e-4496-554c-b4b1-be4736673ca4"
  },
  "language_info": {
   "codemirror_mode": "text/x-c++src",
   "file_extension": ".cpp",
   "mimetype": "text/x-c++src",
   "name": "c++",
   "version": "17"
  }
 },
 "nbformat": 4,
 "nbformat_minor": 5
}
