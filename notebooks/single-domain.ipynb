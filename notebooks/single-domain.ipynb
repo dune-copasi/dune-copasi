{
 "cells": [
  {
   "cell_type": "code",
   "execution_count": null,
   "id": "50ed26c5",
   "metadata": {},
   "outputs": [],
   "source": [
    "#include <dune/common/parallel/mpihelper.hh>\n",
    "\n",
    "// Initialize (fake) mpi\n",
    "auto& mpi_helper = Dune::MPIHelper::instance(int{}, (char**){});\n",
    "auto comm = mpi_helper.getCollectiveCommunication();"
   ]
  },
  {
   "cell_type": "code",
   "execution_count": null,
   "id": "08c0367b",
   "metadata": {},
   "outputs": [],
   "source": [
    "#include <dune/logging/logging.hh>\n",
    "\n",
    "// Initialize loggers\n",
    "Dune::Logging::Logging::init(comm, {});"
   ]
  },
  {
   "cell_type": "code",
   "execution_count": null,
   "id": "e9ba4801",
   "metadata": {},
   "outputs": [],
   "source": [
    "#include <dune/grid/io/file/gmshreader.hh>\n",
    "#include <dune/grid/uggrid.hh>\n",
    "\n",
    "// Load 2D grid from gmsh file\n",
    "constexpr int dim = 2;\n",
    "using Grid = Dune::UGGrid<dim>;\n",
    "std::shared_ptr<Grid> grid_ptr = Dune::GmshReader<Grid>::read(\"grids/circle.msh\");"
   ]
  },
  {
   "cell_type": "code",
   "execution_count": null,
   "id": "5a56909e",
   "metadata": {},
   "outputs": [],
   "source": [
    "#include <dune/common/parametertree.hh>\n",
    "#include <dune/common/parametertreeparser.hh>\n",
    "\n",
    "// Setup a model for diffusion-reaction systems\n",
    "//   We pass a string with INI format that describes\n",
    "//   the (multiple) compartment properties\n",
    "\n",
    "std::istringstream config_stream{\n",
    "    // \"inside\" compartment with two variables (u,v)\n",
    "          \"inside.diffusion.u  = 1e-3           \\n\"\n",
    "          \"inside.diffusion.v  = 1e-3           \\n\"\n",
    "          \"inside.reaction.u = u*v              \\n\"\n",
    "          \"inside.reaction.v = u*v              \\n\"\n",
    "          \"inside.initial.u = sin(x) + cos(y)   \\n\"\n",
    "          \"inside.initial.v = 0                 \\n\"\n",
    "    // \"outside\" compartment with one variable (u)\n",
    "          \"outside.diffusion.u = 1e-3   \\n\"\n",
    "          \"outside.reaction.u  = 1e-3   \\n\"\n",
    "          \"outside.initial.u = 1        \\n\"\n",
    "};\n",
    "\n",
    "// create the config file\n",
    "Dune::ParameterTree config = Dune::ParameterTreeParser::readINITree(config_stream);"
   ]
  },
  {
   "cell_type": "code",
   "execution_count": null,
   "id": "57455d6e",
   "metadata": {},
   "outputs": [],
   "source": [
    "#include <dune/copasi/model/diffusion_reaction.hh>\n",
    "\n",
    "// Make a model that interprets our configuration\n",
    "Dune::Copasi::DiffusionReactionModel model{config};\n",
    "\n",
    "// Get state for the grid with properties of the \"inside\" compartment\n",
    "auto state = model.make_singledomain_multicomponent_state(grid_ptr, \"inside\");"
   ]
  },
  {
   "cell_type": "code",
   "execution_count": null,
   "id": "ca707a64",
   "metadata": {},
   "outputs": [],
   "source": [
    "// Interpolate analytical expressions into the state\n",
    "const Dune::ParameterTree& initial_config = config.sub(\"inside.initial\");\n",
    "\n",
    "// Interpret initial value expressions into a grid function...\n",
    "auto grid_function = Dune::Copasi::make_multicomponent_grid_function(initial_config, state.space().gridView());\n",
    "\n",
    "// ...and interpolate it to the current state\n",
    "model.interpolate(state, grid_function);"
   ]
  },
  {
   "cell_type": "code",
   "execution_count": null,
   "id": "e987021c-ec3b-400c-8917-8b79c33fdf9c",
   "metadata": {},
   "outputs": [],
   "source": [
    "// add a default writer to the state\n",
    "state.writer = model.make_vtk_writer();\n",
    "\n",
    "// write current state into a file named inside and override old files\n",
    "state.write(\"inside\", true);"
   ]
  },
  {
   "cell_type": "code",
   "execution_count": null,
   "id": "970c3401-3311-4d1f-b94d-5ac335bb03fd",
   "metadata": {},
   "outputs": [],
   "source": [
    "#include <dune/copasi/common/stepper.hh>\n",
    "\n",
    "Dune::ParameterTree timestep_config;\n",
    "\n",
    "timestep_config[\"rk_method\"] = \"alexander_2\";\n",
    "timestep_config[\"decrease_factor\"] = \"0.5\";\n",
    "timestep_config[\"increase_factor\"] = \"1.5\";\n",
    "timestep_config[\"min_step\"] = \"1e-3\";\n",
    "timestep_config[\"max_step\"] = \"1e-1\";\n",
    "\n",
    "timestep_config[\"newton.reduction\"] = \"1e-8\";\n",
    "timestep_config[\"newton.min_linear_reduction\"] = \"1e-3\";\n",
    "timestep_config[\"newton.fixed_linear_reduction\"] = \"false\";\n",
    "timestep_config[\"newton.max_iterations\"] = \"40\";\n",
    "timestep_config[\"newton.absolute_limit\"] = \"1e-12\";\n",
    "timestep_config[\"newton.reassemble_threshold\"] = \"0.0\";\n",
    "timestep_config[\"newton.keep_matrix\"] = \"true\";\n",
    "timestep_config[\"newton.force_iteration\"] = \"false\";\n",
    "\n",
    "timestep_config[\"newton.linear_search.strategy\"] = \"hackbuschReusken\";\n",
    "timestep_config[\"newton.linear_search.max_iterations\"] = \"10\";\n",
    "timestep_config[\"newton.linear_search.damping_factor\"] = \"0.5\";\n",
    "\n",
    "auto stepper = Dune::Copasi::make_default_stepper(timestep_config);\n",
    "\n",
    "double end_time = 10;\n",
    "double initial_step = 0.1;\n",
    "auto at_end_of_step = [](auto& state){/*state.write(\"inside\", true);*/};\n",
    "stepper.evolve(model, state, state, initial_step, end_time, at_end_of_step);"
   ]
  },
  {
   "cell_type": "code",
   "execution_count": null,
   "id": "cd904983-94e4-4b28-b1a7-292822f41437",
   "metadata": {},
   "outputs": [],
   "source": [
    "// write current state into a file named inside and override old files\n",
    "state.write(\"inside\", true);"
   ]
  },
  {
   "cell_type": "code",
   "execution_count": null,
   "id": "600054b7-3d0a-4547-a8a4-9d5473d355d9",
   "metadata": {},
   "outputs": [],
   "source": []
  }
 ],
 "metadata": {
  "kernelspec": {
   "display_name": "C++17 (DUNE-COPASI)",
   "language": "C++17",
   "name": "2b54f68e-4496-554c-b4b1-be4736673ca4"
  },
  "language_info": {
   "codemirror_mode": "text/x-c++src",
   "file_extension": ".cpp",
   "mimetype": "text/x-c++src",
   "name": "c++",
   "version": "17"
  }
 },
 "nbformat": 4,
 "nbformat_minor": 5
}
